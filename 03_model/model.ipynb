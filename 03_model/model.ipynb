{
 "cells": [
  {
   "cell_type": "markdown",
   "metadata": {},
   "source": [
    "## table of contents\n",
    "1. [libraries](#libraries)\n",
    "2. [overall](#overall)\n",
    "4. [model](#model)\n",
    "5. [test](#test)"
   ]
  },
  {
   "cell_type": "markdown",
   "metadata": {},
   "source": [
    "___\n",
    "## libraries"
   ]
  },
  {
   "cell_type": "code",
   "execution_count": 1,
   "metadata": {},
   "outputs": [],
   "source": [
    "import numpy as np\n",
    "import pandas as pd\n",
    "import matplotlib.pyplot as plt\n",
    "import seaborn as sns\n",
    "sns.set()\n",
    "\n",
    "import mlframework"
   ]
  },
  {
   "cell_type": "markdown",
   "metadata": {},
   "source": [
    "___\n",
    "## overall"
   ]
  },
  {
   "cell_type": "code",
   "execution_count": 2,
   "metadata": {},
   "outputs": [
    {
     "name": "stdout",
     "output_type": "stream",
     "text": [
      "(15000, 141)\n"
     ]
    },
    {
     "data": {
      "text/html": [
       "<div>\n",
       "<style scoped>\n",
       "    .dataframe tbody tr th:only-of-type {\n",
       "        vertical-align: middle;\n",
       "    }\n",
       "\n",
       "    .dataframe tbody tr th {\n",
       "        vertical-align: top;\n",
       "    }\n",
       "\n",
       "    .dataframe thead th {\n",
       "        text-align: right;\n",
       "    }\n",
       "</style>\n",
       "<table border=\"1\" class=\"dataframe\">\n",
       "  <thead>\n",
       "    <tr style=\"text-align: right;\">\n",
       "      <th></th>\n",
       "      <th>end</th>\n",
       "      <th>male</th>\n",
       "      <th>duration</th>\n",
       "      <th>dayname</th>\n",
       "      <th>weekend</th>\n",
       "      <th>worktime</th>\n",
       "      <th>nighttime</th>\n",
       "      <th>oclock</th>\n",
       "      <th>A00001</th>\n",
       "      <th>A00002</th>\n",
       "      <th>...</th>\n",
       "      <th>D07875</th>\n",
       "      <th>D10307</th>\n",
       "      <th>D13982</th>\n",
       "      <th>D14855</th>\n",
       "      <th>D18347</th>\n",
       "      <th>D18353</th>\n",
       "      <th>D22126</th>\n",
       "      <th>D33879</th>\n",
       "      <th>D35676</th>\n",
       "      <th>D35703</th>\n",
       "    </tr>\n",
       "    <tr>\n",
       "      <th>sessionid</th>\n",
       "      <th></th>\n",
       "      <th></th>\n",
       "      <th></th>\n",
       "      <th></th>\n",
       "      <th></th>\n",
       "      <th></th>\n",
       "      <th></th>\n",
       "      <th></th>\n",
       "      <th></th>\n",
       "      <th></th>\n",
       "      <th></th>\n",
       "      <th></th>\n",
       "      <th></th>\n",
       "      <th></th>\n",
       "      <th></th>\n",
       "      <th></th>\n",
       "      <th></th>\n",
       "      <th></th>\n",
       "      <th></th>\n",
       "      <th></th>\n",
       "      <th></th>\n",
       "    </tr>\n",
       "  </thead>\n",
       "  <tbody>\n",
       "    <tr>\n",
       "      <th>u10001</th>\n",
       "      <td>2014-11-14</td>\n",
       "      <td>0</td>\n",
       "      <td>6</td>\n",
       "      <td>Friday</td>\n",
       "      <td>0</td>\n",
       "      <td>0</td>\n",
       "      <td>1</td>\n",
       "      <td>1</td>\n",
       "      <td>1</td>\n",
       "      <td>0</td>\n",
       "      <td>...</td>\n",
       "      <td>0</td>\n",
       "      <td>0</td>\n",
       "      <td>0</td>\n",
       "      <td>0</td>\n",
       "      <td>0</td>\n",
       "      <td>0</td>\n",
       "      <td>0</td>\n",
       "      <td>0</td>\n",
       "      <td>0</td>\n",
       "      <td>0</td>\n",
       "    </tr>\n",
       "    <tr>\n",
       "      <th>u10002</th>\n",
       "      <td>2014-12-12</td>\n",
       "      <td>0</td>\n",
       "      <td>1</td>\n",
       "      <td>Friday</td>\n",
       "      <td>0</td>\n",
       "      <td>1</td>\n",
       "      <td>0</td>\n",
       "      <td>0</td>\n",
       "      <td>0</td>\n",
       "      <td>1</td>\n",
       "      <td>...</td>\n",
       "      <td>0</td>\n",
       "      <td>0</td>\n",
       "      <td>0</td>\n",
       "      <td>0</td>\n",
       "      <td>0</td>\n",
       "      <td>0</td>\n",
       "      <td>0</td>\n",
       "      <td>0</td>\n",
       "      <td>0</td>\n",
       "      <td>0</td>\n",
       "    </tr>\n",
       "    <tr>\n",
       "      <th>u10003</th>\n",
       "      <td>2014-11-14</td>\n",
       "      <td>0</td>\n",
       "      <td>839</td>\n",
       "      <td>Friday</td>\n",
       "      <td>0</td>\n",
       "      <td>0</td>\n",
       "      <td>1</td>\n",
       "      <td>1</td>\n",
       "      <td>0</td>\n",
       "      <td>12</td>\n",
       "      <td>...</td>\n",
       "      <td>0</td>\n",
       "      <td>0</td>\n",
       "      <td>0</td>\n",
       "      <td>0</td>\n",
       "      <td>0</td>\n",
       "      <td>0</td>\n",
       "      <td>0</td>\n",
       "      <td>0</td>\n",
       "      <td>0</td>\n",
       "      <td>0</td>\n",
       "    </tr>\n",
       "    <tr>\n",
       "      <th>u10004</th>\n",
       "      <td>2014-11-14</td>\n",
       "      <td>0</td>\n",
       "      <td>2</td>\n",
       "      <td>Friday</td>\n",
       "      <td>0</td>\n",
       "      <td>0</td>\n",
       "      <td>1</td>\n",
       "      <td>0</td>\n",
       "      <td>0</td>\n",
       "      <td>1</td>\n",
       "      <td>...</td>\n",
       "      <td>0</td>\n",
       "      <td>0</td>\n",
       "      <td>0</td>\n",
       "      <td>0</td>\n",
       "      <td>0</td>\n",
       "      <td>0</td>\n",
       "      <td>0</td>\n",
       "      <td>0</td>\n",
       "      <td>0</td>\n",
       "      <td>0</td>\n",
       "    </tr>\n",
       "    <tr>\n",
       "      <th>u10005</th>\n",
       "      <td>2014-11-14</td>\n",
       "      <td>0</td>\n",
       "      <td>197</td>\n",
       "      <td>Friday</td>\n",
       "      <td>0</td>\n",
       "      <td>0</td>\n",
       "      <td>1</td>\n",
       "      <td>0</td>\n",
       "      <td>0</td>\n",
       "      <td>3</td>\n",
       "      <td>...</td>\n",
       "      <td>0</td>\n",
       "      <td>0</td>\n",
       "      <td>0</td>\n",
       "      <td>0</td>\n",
       "      <td>0</td>\n",
       "      <td>0</td>\n",
       "      <td>0</td>\n",
       "      <td>0</td>\n",
       "      <td>0</td>\n",
       "      <td>0</td>\n",
       "    </tr>\n",
       "  </tbody>\n",
       "</table>\n",
       "<p>5 rows × 141 columns</p>\n",
       "</div>"
      ],
      "text/plain": [
       "                  end  male  duration dayname  weekend  worktime  nighttime  \\\n",
       "sessionid                                                                     \n",
       "u10001     2014-11-14     0         6  Friday        0         0          1   \n",
       "u10002     2014-12-12     0         1  Friday        0         1          0   \n",
       "u10003     2014-11-14     0       839  Friday        0         0          1   \n",
       "u10004     2014-11-14     0         2  Friday        0         0          1   \n",
       "u10005     2014-11-14     0       197  Friday        0         0          1   \n",
       "\n",
       "           oclock  A00001  A00002  ...  D07875  D10307  D13982  D14855  \\\n",
       "sessionid                          ...                                   \n",
       "u10001          1       1       0  ...       0       0       0       0   \n",
       "u10002          0       0       1  ...       0       0       0       0   \n",
       "u10003          1       0      12  ...       0       0       0       0   \n",
       "u10004          0       0       1  ...       0       0       0       0   \n",
       "u10005          0       0       3  ...       0       0       0       0   \n",
       "\n",
       "           D18347  D18353  D22126  D33879  D35676  D35703  \n",
       "sessionid                                                  \n",
       "u10001          0       0       0       0       0       0  \n",
       "u10002          0       0       0       0       0       0  \n",
       "u10003          0       0       0       0       0       0  \n",
       "u10004          0       0       0       0       0       0  \n",
       "u10005          0       0       0       0       0       0  \n",
       "\n",
       "[5 rows x 141 columns]"
      ]
     },
     "execution_count": 2,
     "metadata": {},
     "output_type": "execute_result"
    }
   ],
   "source": [
    "data = pd.read_csv('../02_feature_engineering/data.csv', index_col='sessionid')\n",
    "data['dayname'] = data['dayname'].astype('category')\n",
    "print(data.shape)\n",
    "data.head()"
   ]
  },
  {
   "cell_type": "markdown",
   "metadata": {},
   "source": [
    "Data resulted from feature engineering, including (1) `end`, (2) label `male` and (3) time features and (4) product features."
   ]
  },
  {
   "cell_type": "markdown",
   "metadata": {},
   "source": [
    "___\n",
    "## model"
   ]
  },
  {
   "cell_type": "code",
   "execution_count": 4,
   "metadata": {},
   "outputs": [
    {
     "name": "stderr",
     "output_type": "stream",
     "text": [
      "\u001b[32m[I 2022-01-09 22:05:34,636]\u001b[0m A new study created in memory with name: no-name-7c29fe55-164a-4601-bcd3-4fa6284ad36d\u001b[0m\n"
     ]
    },
    {
     "name": "stdout",
     "output_type": "stream",
     "text": [
      "Data and its partition (train, valid, test) are stored in attributes data, train, valid and test, respectively.\n"
     ]
    },
    {
     "name": "stderr",
     "output_type": "stream",
     "text": [
      "\u001b[32m[I 2022-01-09 22:05:40,519]\u001b[0m Trial 0 finished with value: 0.8586472454356595 and parameters: {'num_leaves': 62, 'max_depth': 7, 'min_data_in_leaf': 55, 'subsample': 0.7357952134817738, 'colsample_bytree': 0.5418757583662454, 'reg_alpha': 2.381817631690529e-08, 'reg_lambda': 0.0006287576372599632}. Best is trial 0 with value: 0.8586472454356595.\u001b[0m\n",
      "\u001b[32m[I 2022-01-09 22:05:45,712]\u001b[0m Trial 1 finished with value: 0.8472699598771548 and parameters: {'num_leaves': 291, 'max_depth': 6, 'min_data_in_leaf': 60, 'subsample': 0.40438911689559826, 'colsample_bytree': 0.4629500705655806, 'reg_alpha': 0.0006205979487241554, 'reg_lambda': 1.169682255357414e-07}. Best is trial 0 with value: 0.8586472454356595.\u001b[0m\n",
      "\u001b[32m[I 2022-01-09 22:05:50,714]\u001b[0m Trial 2 finished with value: 0.8837513746621688 and parameters: {'num_leaves': 591, 'max_depth': 4, 'min_data_in_leaf': 38, 'subsample': 0.33032965575907436, 'colsample_bytree': 0.9278340962155691, 'reg_alpha': 0.00011150954330238949, 'reg_lambda': 1.4739631158981374e-05}. Best is trial 2 with value: 0.8837513746621688.\u001b[0m\n",
      "\u001b[32m[I 2022-01-09 22:05:56,010]\u001b[0m Trial 3 finished with value: 0.8495701428221576 and parameters: {'num_leaves': 832, 'max_depth': 3, 'min_data_in_leaf': 76, 'subsample': 0.6412738579365009, 'colsample_bytree': 0.5691685147668313, 'reg_alpha': 0.0035222334460025036, 'reg_lambda': 0.09094817239404744}. Best is trial 2 with value: 0.8837513746621688.\u001b[0m\n",
      "\u001b[32m[I 2022-01-09 22:06:01,904]\u001b[0m Trial 4 finished with value: 0.8532339690910773 and parameters: {'num_leaves': 163, 'max_depth': 11, 'min_data_in_leaf': 14, 'subsample': 0.8229036457791834, 'colsample_bytree': 0.5899666965446251, 'reg_alpha': 2.5037519081927937e-06, 'reg_lambda': 2.3735954916178953e-08}. Best is trial 2 with value: 0.8837513746621688.\u001b[0m\n",
      "\u001b[32m[I 2022-01-09 22:06:07,370]\u001b[0m Trial 5 finished with value: 0.8489426048728799 and parameters: {'num_leaves': 700, 'max_depth': 8, 'min_data_in_leaf': 99, 'subsample': 0.5325648107735824, 'colsample_bytree': 0.8510529858175389, 'reg_alpha': 0.001671685822352745, 'reg_lambda': 0.0003129757704446684}. Best is trial 2 with value: 0.8837513746621688.\u001b[0m\n",
      "\u001b[32m[I 2022-01-09 22:06:14,186]\u001b[0m Trial 6 finished with value: 0.8562383992044861 and parameters: {'num_leaves': 148, 'max_depth': 11, 'min_data_in_leaf': 95, 'subsample': 0.5692638800295774, 'colsample_bytree': 0.6587146905811234, 'reg_alpha': 5.190331274087751e-07, 'reg_lambda': 0.027534593001267104}. Best is trial 2 with value: 0.8837513746621688.\u001b[0m\n",
      "\u001b[32m[I 2022-01-09 22:06:20,230]\u001b[0m Trial 7 finished with value: 0.8500969450663083 and parameters: {'num_leaves': 752, 'max_depth': 8, 'min_data_in_leaf': 55, 'subsample': 0.9544151609042897, 'colsample_bytree': 0.693280642181121, 'reg_alpha': 0.00019163960955453745, 'reg_lambda': 1.0140724295428796}. Best is trial 2 with value: 0.8837513746621688.\u001b[0m\n",
      "\u001b[32m[I 2022-01-09 22:06:26,445]\u001b[0m Trial 8 finished with value: 0.8467824617212841 and parameters: {'num_leaves': 1007, 'max_depth': 11, 'min_data_in_leaf': 77, 'subsample': 0.9817308832796201, 'colsample_bytree': 0.5115728287137435, 'reg_alpha': 0.006443516905562776, 'reg_lambda': 0.000878417069342393}. Best is trial 2 with value: 0.8837513746621688.\u001b[0m\n",
      "\u001b[32m[I 2022-01-09 22:06:31,793]\u001b[0m Trial 9 finished with value: 0.8501429918642007 and parameters: {'num_leaves': 358, 'max_depth': 3, 'min_data_in_leaf': 34, 'subsample': 0.4979217785479566, 'colsample_bytree': 0.5184701565717994, 'reg_alpha': 3.9159049381615905e-05, 'reg_lambda': 1.5295002590022877e-07}. Best is trial 2 with value: 0.8837513746621688.\u001b[0m\n"
     ]
    },
    {
     "name": "stdout",
     "output_type": "stream",
     "text": [
      "Best booster has been trained with num_boost_round=5.\n",
      "New attributes assigned: study, best_params, cvbooster, booster.\n"
     ]
    }
   ],
   "source": [
    "# Define column names in data\n",
    "label_col = 'male'\n",
    "label_time_col = 'end'\n",
    "feat_cols = [col for col in data.columns if col not in [label_col, label_time_col]]\n",
    "\n",
    "# Split data and tune lightgbm with optuna\n",
    "shopping_ml = mlframework.MLFramework()\n",
    "shopping_ml.train_valid_test_split(\n",
    "    data=data,\n",
    "    label_col=label_col,\n",
    "    feat_cols=feat_cols,\n",
    "    label_time_col=label_time_col,\n",
    "    valid_size=0,  # not split for valid set yet. will be split in cross validation process\n",
    "    test_size=7  # keep last 7 days for testing model (~25% total data)\n",
    ")\n",
    "shopping_ml.optuna_lgb(10)"
   ]
  },
  {
   "cell_type": "code",
   "execution_count": 5,
   "metadata": {},
   "outputs": [
    {
     "data": {
      "text/plain": [
       "False    118\n",
       "True      21\n",
       "Name: importance, dtype: int64"
      ]
     },
     "execution_count": 5,
     "metadata": {},
     "output_type": "execute_result"
    }
   ],
   "source": [
    "feat_importance = shopping_ml.get_feature_importance(len(shopping_ml.train.data.columns))\n",
    "(feat_importance > 0).value_counts()"
   ]
  },
  {
   "cell_type": "markdown",
   "metadata": {},
   "source": [
    "Only a part out of 139 features are used during the split (feature importance > 0). Since just a sub set of columns are selected at every split, these unuseful features may harm the performance of the split. Should remove them and re-train the model."
   ]
  },
  {
   "cell_type": "code",
   "execution_count": 7,
   "metadata": {},
   "outputs": [
    {
     "name": "stderr",
     "output_type": "stream",
     "text": [
      "\u001b[32m[I 2022-01-09 22:08:36,248]\u001b[0m A new study created in memory with name: no-name-ed0c5f85-269d-4b2a-82e0-18f6a7c7b839\u001b[0m\n"
     ]
    },
    {
     "name": "stdout",
     "output_type": "stream",
     "text": [
      "Data and its partition (train, valid, test) are stored in attributes data, train, valid and test, respectively.\n"
     ]
    },
    {
     "name": "stderr",
     "output_type": "stream",
     "text": [
      "\u001b[32m[I 2022-01-09 22:08:42,937]\u001b[0m Trial 0 finished with value: 0.8468037218370903 and parameters: {'num_leaves': 804, 'max_depth': 8, 'min_data_in_leaf': 13, 'subsample': 0.49268847332103805, 'colsample_bytree': 0.31118856101767495, 'reg_alpha': 0.009733672694332693, 'reg_lambda': 2.2742948272845382e-06}. Best is trial 0 with value: 0.8468037218370903.\u001b[0m\n",
      "\u001b[32m[I 2022-01-09 22:08:48,442]\u001b[0m Trial 1 finished with value: 0.8634009283022476 and parameters: {'num_leaves': 885, 'max_depth': 3, 'min_data_in_leaf': 98, 'subsample': 0.7470527113238687, 'colsample_bytree': 0.6090384756775395, 'reg_alpha': 0.0012486169877082974, 'reg_lambda': 1.3850756096108723e-07}. Best is trial 1 with value: 0.8634009283022476.\u001b[0m\n",
      "\u001b[32m[I 2022-01-09 22:08:55,673]\u001b[0m Trial 2 finished with value: 0.8510654971472666 and parameters: {'num_leaves': 489, 'max_depth': 10, 'min_data_in_leaf': 50, 'subsample': 0.6634888533373673, 'colsample_bytree': 0.866936281150495, 'reg_alpha': 1.056465834902906e-08, 'reg_lambda': 0.00010675957803724551}. Best is trial 1 with value: 0.8634009283022476.\u001b[0m\n",
      "\u001b[32m[I 2022-01-09 22:09:00,280]\u001b[0m Trial 3 finished with value: 0.8630638676550072 and parameters: {'num_leaves': 220, 'max_depth': 8, 'min_data_in_leaf': 64, 'subsample': 0.4996693485683677, 'colsample_bytree': 0.458495345899657, 'reg_alpha': 3.6083378706474107e-07, 'reg_lambda': 0.0013201838959585259}. Best is trial 1 with value: 0.8634009283022476.\u001b[0m\n",
      "\u001b[32m[I 2022-01-09 22:09:06,498]\u001b[0m Trial 4 finished with value: 0.853860387494427 and parameters: {'num_leaves': 255, 'max_depth': 8, 'min_data_in_leaf': 16, 'subsample': 0.4366066010933235, 'colsample_bytree': 0.30204948549245814, 'reg_alpha': 0.11829720557651037, 'reg_lambda': 1.8531808221938122e-08}. Best is trial 1 with value: 0.8634009283022476.\u001b[0m\n",
      "\u001b[32m[I 2022-01-09 22:09:11,772]\u001b[0m Trial 5 finished with value: 0.8652374008628296 and parameters: {'num_leaves': 73, 'max_depth': 9, 'min_data_in_leaf': 27, 'subsample': 0.6999077852545821, 'colsample_bytree': 0.63492158197953, 'reg_alpha': 2.522091569300703e-06, 'reg_lambda': 2.1591084300804585e-06}. Best is trial 5 with value: 0.8652374008628296.\u001b[0m\n",
      "\u001b[32m[I 2022-01-09 22:09:16,734]\u001b[0m Trial 6 finished with value: 0.8717111214010895 and parameters: {'num_leaves': 625, 'max_depth': 10, 'min_data_in_leaf': 19, 'subsample': 0.9418221311677053, 'colsample_bytree': 0.9244721114358883, 'reg_alpha': 6.253350350104386e-05, 'reg_lambda': 0.00249960386260675}. Best is trial 6 with value: 0.8717111214010895.\u001b[0m\n",
      "\u001b[32m[I 2022-01-09 22:09:21,573]\u001b[0m Trial 7 finished with value: 0.8474246653203672 and parameters: {'num_leaves': 720, 'max_depth': 5, 'min_data_in_leaf': 74, 'subsample': 0.7609608167312291, 'colsample_bytree': 0.35439392261236996, 'reg_alpha': 4.1832622527407075, 'reg_lambda': 0.1935848263654923}. Best is trial 6 with value: 0.8717111214010895.\u001b[0m\n",
      "\u001b[32m[I 2022-01-09 22:09:26,510]\u001b[0m Trial 8 finished with value: 0.8619548980001236 and parameters: {'num_leaves': 764, 'max_depth': 10, 'min_data_in_leaf': 13, 'subsample': 0.5799578270216216, 'colsample_bytree': 0.6844439438260563, 'reg_alpha': 3.771306304134344e-08, 'reg_lambda': 8.921185609701779e-07}. Best is trial 6 with value: 0.8717111214010895.\u001b[0m\n",
      "\u001b[32m[I 2022-01-09 22:09:32,758]\u001b[0m Trial 9 finished with value: 0.8527562900342959 and parameters: {'num_leaves': 898, 'max_depth': 12, 'min_data_in_leaf': 94, 'subsample': 0.39870331438280315, 'colsample_bytree': 0.47067878365480453, 'reg_alpha': 9.233253699624066e-07, 'reg_lambda': 1.0908568488384288e-06}. Best is trial 6 with value: 0.8717111214010895.\u001b[0m\n"
     ]
    },
    {
     "name": "stdout",
     "output_type": "stream",
     "text": [
      "Best booster has been trained with num_boost_round=4.\n",
      "New attributes assigned: study, best_params, cvbooster, booster.\n"
     ]
    }
   ],
   "source": [
    "# Define column names in data\n",
    "label_col = 'male'\n",
    "label_time_col = 'end'\n",
    "feat_cols = feat_importance.loc[lambda x: x > 0].index\n",
    "\n",
    "# Split data and tune lightgbm with optuna\n",
    "shopping_ml = mlframework.MLFramework()\n",
    "shopping_ml.train_valid_test_split(\n",
    "    data=data,\n",
    "    label_col=label_col,\n",
    "    feat_cols=feat_cols,\n",
    "    label_time_col=label_time_col,\n",
    "    valid_size=0,  # not split for valid set yet. will be split in cross validation process\n",
    "    test_size=7  # keep last 7 days for testing model (~25% total data)\n",
    ")\n",
    "shopping_ml.optuna_lgb(10)"
   ]
  },
  {
   "cell_type": "code",
   "execution_count": 8,
   "metadata": {},
   "outputs": [
    {
     "data": {
      "image/png": "[encoded data removed]",
      "text/plain": [
       "<Figure size 432x288 with 1 Axes>"
      ]
     },
     "metadata": {},
     "output_type": "display_data"
    }
   ],
   "source": [
    "shopping_ml.plot_feature_importance()"
   ]
  },
  {
   "cell_type": "markdown",
   "metadata": {},
   "source": [
    "`A00001`, `A00003` and `A00002` are the top features that contribute to best splits."
   ]
  },
  {
   "cell_type": "markdown",
   "metadata": {},
   "source": [
    "___\n",
    "## test"
   ]
  },
  {
   "cell_type": "code",
   "execution_count": 9,
   "metadata": {},
   "outputs": [
    {
     "name": "stdout",
     "output_type": "stream",
     "text": [
      "Macro-accuracy on test set is: 81.0%\n"
     ]
    }
   ],
   "source": [
    "pred_score = shopping_ml.predict(shopping_ml.test.data, cv=True)\n",
    "pred_label = np.where(pred_score < 0.5, 0, 1)\n",
    "\n",
    "accuracy = mlframework.accuracy_macro(pred_label, shopping_ml.test.label)\n",
    "print(f'Macro-accuracy on test set is: {accuracy:.1%}')"
   ]
  },
  {
   "cell_type": "markdown",
   "metadata": {},
   "source": [
    "### bonus: gain table and calibrate curve"
   ]
  },
  {
   "cell_type": "code",
   "execution_count": 10,
   "metadata": {},
   "outputs": [
    {
     "data": {
      "text/html": [
       "<div>\n",
       "<style scoped>\n",
       "    .dataframe tbody tr th:only-of-type {\n",
       "        vertical-align: middle;\n",
       "    }\n",
       "\n",
       "    .dataframe tbody tr th {\n",
       "        vertical-align: top;\n",
       "    }\n",
       "\n",
       "    .dataframe thead th {\n",
       "        text-align: right;\n",
       "    }\n",
       "</style>\n",
       "<table border=\"1\" class=\"dataframe\">\n",
       "  <thead>\n",
       "    <tr style=\"text-align: right;\">\n",
       "      <th></th>\n",
       "      <th>level</th>\n",
       "      <th>predict_min</th>\n",
       "      <th>predict_mean</th>\n",
       "      <th>predict_max</th>\n",
       "      <th>true_count</th>\n",
       "      <th>true_sum</th>\n",
       "      <th>true_mean</th>\n",
       "    </tr>\n",
       "  </thead>\n",
       "  <tbody>\n",
       "    <tr>\n",
       "      <th>0</th>\n",
       "      <td>Level1</td>\n",
       "      <td>0.742801</td>\n",
       "      <td>0.849630</td>\n",
       "      <td>0.986668</td>\n",
       "      <td>371</td>\n",
       "      <td>284</td>\n",
       "      <td>0.765499</td>\n",
       "    </tr>\n",
       "    <tr>\n",
       "      <th>1</th>\n",
       "      <td>Level2</td>\n",
       "      <td>0.223434</td>\n",
       "      <td>0.485331</td>\n",
       "      <td>0.742069</td>\n",
       "      <td>370</td>\n",
       "      <td>187</td>\n",
       "      <td>0.505405</td>\n",
       "    </tr>\n",
       "    <tr>\n",
       "      <th>2</th>\n",
       "      <td>Level3</td>\n",
       "      <td>0.123869</td>\n",
       "      <td>0.154575</td>\n",
       "      <td>0.223174</td>\n",
       "      <td>370</td>\n",
       "      <td>52</td>\n",
       "      <td>0.140541</td>\n",
       "    </tr>\n",
       "    <tr>\n",
       "      <th>3</th>\n",
       "      <td>Level4</td>\n",
       "      <td>0.108531</td>\n",
       "      <td>0.113831</td>\n",
       "      <td>0.123836</td>\n",
       "      <td>359</td>\n",
       "      <td>53</td>\n",
       "      <td>0.147632</td>\n",
       "    </tr>\n",
       "    <tr>\n",
       "      <th>4</th>\n",
       "      <td>Level5</td>\n",
       "      <td>0.100873</td>\n",
       "      <td>0.105794</td>\n",
       "      <td>0.108477</td>\n",
       "      <td>381</td>\n",
       "      <td>46</td>\n",
       "      <td>0.120735</td>\n",
       "    </tr>\n",
       "    <tr>\n",
       "      <th>5</th>\n",
       "      <td>Level6</td>\n",
       "      <td>0.093210</td>\n",
       "      <td>0.096044</td>\n",
       "      <td>0.100807</td>\n",
       "      <td>353</td>\n",
       "      <td>41</td>\n",
       "      <td>0.116147</td>\n",
       "    </tr>\n",
       "    <tr>\n",
       "      <th>6</th>\n",
       "      <td>Level7</td>\n",
       "      <td>0.077075</td>\n",
       "      <td>0.087196</td>\n",
       "      <td>0.093186</td>\n",
       "      <td>388</td>\n",
       "      <td>32</td>\n",
       "      <td>0.082474</td>\n",
       "    </tr>\n",
       "    <tr>\n",
       "      <th>7</th>\n",
       "      <td>Level8</td>\n",
       "      <td>0.061206</td>\n",
       "      <td>0.069074</td>\n",
       "      <td>0.077020</td>\n",
       "      <td>370</td>\n",
       "      <td>41</td>\n",
       "      <td>0.110811</td>\n",
       "    </tr>\n",
       "    <tr>\n",
       "      <th>8</th>\n",
       "      <td>Level9</td>\n",
       "      <td>0.047289</td>\n",
       "      <td>0.054858</td>\n",
       "      <td>0.061150</td>\n",
       "      <td>370</td>\n",
       "      <td>36</td>\n",
       "      <td>0.097297</td>\n",
       "    </tr>\n",
       "    <tr>\n",
       "      <th>9</th>\n",
       "      <td>Level10</td>\n",
       "      <td>0.009294</td>\n",
       "      <td>0.033713</td>\n",
       "      <td>0.047285</td>\n",
       "      <td>371</td>\n",
       "      <td>38</td>\n",
       "      <td>0.102426</td>\n",
       "    </tr>\n",
       "  </tbody>\n",
       "</table>\n",
       "</div>"
      ],
      "text/plain": [
       "     level  predict_min  predict_mean  predict_max  true_count  true_sum  \\\n",
       "0   Level1     0.742801      0.849630     0.986668         371       284   \n",
       "1   Level2     0.223434      0.485331     0.742069         370       187   \n",
       "2   Level3     0.123869      0.154575     0.223174         370        52   \n",
       "3   Level4     0.108531      0.113831     0.123836         359        53   \n",
       "4   Level5     0.100873      0.105794     0.108477         381        46   \n",
       "5   Level6     0.093210      0.096044     0.100807         353        41   \n",
       "6   Level7     0.077075      0.087196     0.093186         388        32   \n",
       "7   Level8     0.061206      0.069074     0.077020         370        41   \n",
       "8   Level9     0.047289      0.054858     0.061150         370        36   \n",
       "9  Level10     0.009294      0.033713     0.047285         371        38   \n",
       "\n",
       "   true_mean  \n",
       "0   0.765499  \n",
       "1   0.505405  \n",
       "2   0.140541  \n",
       "3   0.147632  \n",
       "4   0.120735  \n",
       "5   0.116147  \n",
       "6   0.082474  \n",
       "7   0.110811  \n",
       "8   0.097297  \n",
       "9   0.102426  "
      ]
     },
     "execution_count": 10,
     "metadata": {},
     "output_type": "execute_result"
    }
   ],
   "source": [
    "mlframework.get_gain_table(shopping_ml.test.label, pred_score)"
   ]
  },
  {
   "cell_type": "markdown",
   "metadata": {},
   "source": [
    "Two top levels are very well predicted with `true_mean` are 77% and 51%, respectively. Following levels are gradually less corrected. Especially, last three levels's `true_mean` are even higher than their previous level's."
   ]
  },
  {
   "cell_type": "code",
   "execution_count": 11,
   "metadata": {},
   "outputs": [
    {
     "data": {
      "image/png": "[encoded data removed]",
      "text/plain": [
       "<Figure size 432x288 with 1 Axes>"
      ]
     },
     "metadata": {},
     "output_type": "display_data"
    }
   ],
   "source": [
    "mlframework.plot_calibration_curve(shopping_ml.test.label, pred_score)"
   ]
  },
  {
   "cell_type": "markdown",
   "metadata": {},
   "source": [
    "Visualization of the gain table."
   ]
  }
 ],
 "metadata": {
  "interpreter": {
   "hash": "f24a9f26eac03ed2eaec3105e31736553b9879a2749623ecab57b8aa57d04310"
  },
  "kernelspec": {
   "display_name": "Python 3.9.4 64-bit ('aai_banca_ls_v2': conda)",
   "language": "python",
   "name": "python3"
  },
  "language_info": {
   "codemirror_mode": {
    "name": "ipython",
    "version": 3
   },
   "file_extension": ".py",
   "mimetype": "text/x-python",
   "name": "python",
   "nbconvert_exporter": "python",
   "pygments_lexer": "ipython3",
   "version": "3.9.4"
  },
  "orig_nbformat": 4
 },
 "nbformat": 4,
 "nbformat_minor": 2
}
